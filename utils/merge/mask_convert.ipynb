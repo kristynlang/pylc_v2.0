{
 "cells": [
  {
   "cell_type": "code",
   "execution_count": 2,
   "id": "87afced5",
   "metadata": {},
   "outputs": [],
   "source": [
    "import numpy as np\n",
    "import os\n",
    "from matplotlib import pyplot as plt\n",
    "import matplotlib.image as img\n",
    "from tqdm import tqdm"
   ]
  },
  {
   "cell_type": "code",
   "execution_count": 8,
   "id": "f2e1009b",
   "metadata": {},
   "outputs": [],
   "source": [
    "root = '/Users/kristynlang/Desktop/kristyn/'"
   ]
  },
  {
   "cell_type": "code",
   "execution_count": 9,
   "id": "21c0fa57",
   "metadata": {},
   "outputs": [],
   "source": [
    "from PIL import Image\n",
    "\n",
    "test = Image.open(root + 'ImageMaskCollection/TaggartHodgeFluvial/kateEdit_V2.3_Mask_TaggartFlu_ForgetMeNot2.png')\n",
    "photo = test.convert('RGB')\n",
    "mask = np.asarray(photo)"
   ]
  },
  {
   "cell_type": "code",
   "execution_count": 10,
   "id": "9d6db16e",
   "metadata": {},
   "outputs": [],
   "source": [
    "rgb = np.unique(mask.reshape(-1, mask.shape[2]), axis=0)"
   ]
  },
  {
   "cell_type": "code",
   "execution_count": 14,
   "id": "d7f3a9cf-d8d6-4046-a6b3-7035149d3ed1",
   "metadata": {},
   "outputs": [
    {
     "data": {
      "text/plain": [
       "array([[  0,   0,   0],\n",
       "       [  0,   0, 127],\n",
       "       [  0,  83,   0],\n",
       "       [  0, 139, 104],\n",
       "       [  0, 203,   0],\n",
       "       [  7,   7, 255],\n",
       "       [ 47,  46,  38],\n",
       "       [ 76,  83,  80],\n",
       "       [160,  80,   0],\n",
       "       [255,   0,   4],\n",
       "       [255, 170,   0]], dtype=uint8)"
      ]
     },
     "execution_count": 14,
     "metadata": {},
     "output_type": "execute_result"
    }
   ],
   "source": [
    "rgb"
   ]
  },
  {
   "cell_type": "code",
   "execution_count": 13,
   "id": "78d7e959",
   "metadata": {},
   "outputs": [
    {
     "data": {
      "text/plain": [
       "['#000000',\n",
       " '#00007f',\n",
       " '#005300',\n",
       " '#008b68',\n",
       " '#00cb00',\n",
       " '#0707ff',\n",
       " '#2f2e26',\n",
       " '#4c5350',\n",
       " '#a05000',\n",
       " '#ff0004',\n",
       " '#ffaa00']"
      ]
     },
     "execution_count": 13,
     "metadata": {},
     "output_type": "execute_result"
    }
   ],
   "source": [
    "hexes = []\n",
    "\n",
    "for i in range(len(rgb)):\n",
    "    r,g,b = rgb[i,:]\n",
    "    hexcolor = '#{:02x}{:02x}{:02x}'.format(r, g, b)\n",
    "    hexes.append(hexcolor)\n",
    "    \n",
    "hexes"
   ]
  },
  {
   "cell_type": "code",
   "execution_count": 16,
   "id": "725d4f20",
   "metadata": {},
   "outputs": [],
   "source": [
    "LIMcats = ['Not categorized', 'Water', 'Conifer', 'Barren Ground', 'Shrubland', 'Broadleaf', 'Regenerating Area', 'Herbaceous', 'Mixedwood']\n",
    "\n",
    "cat_dict_LIM = {}\n",
    "\n",
    "for i, cat in enumerate(LIMcats):\n",
    "    cat_dict_LIM[cat] = (hexes[i], list(rgb[i]))\n",
    "\n",
    "# cat_dict_LIM = sorted(cat_dict_LIM.items(), key=lambda x: x[0])\n",
    "\n",
    "# # Create a new dictionary from the sorted list of tuples\n",
    "# cat_dict_LIM = {k: v for k, v in cat_dict_LIM}"
   ]
  },
  {
   "cell_type": "markdown",
   "id": "838283a7",
   "metadata": {},
   "source": [
    "### DST.A Standardized Class Scheme\n"
   ]
  },
  {
   "cell_type": "code",
   "execution_count": 183,
   "id": "3311cb89",
   "metadata": {},
   "outputs": [],
   "source": [
    "#Grab masks from DSTA\n",
    "folder_path = \"C:\\\\Users\\\\Owner\\\\Desktop\\\\UVic\\\\2022-2023\\\\MLP\\\\DSTA-Masks\\\\\"\n",
    "\n",
    "# Create an empty set to store the unique RGB values\n",
    "#Find unique rgb values for unique classes\n",
    "unique_rgb = set()\n",
    "\n",
    "# Loop through each file in the folder\n",
    "for file_name in os.listdir(folder_path):\n",
    "    # Open the image file\n",
    "    file_path = os.path.join(folder_path, file_name)\n",
    "    with Image.open(file_path) as img:\n",
    "        # Get the RGB values of each pixel in the image\n",
    "        rgb_values = img.convert(\"RGB\").getcolors(img.size[0] * img.size[1])\n",
    "        # Add each unique RGB value to the set\n",
    "        for count, color in rgb_values:\n",
    "            unique_rgb.add(color)\n",
    "\n",
    "# Print the unique RGB values\n",
    "unique_rgb = list(unique_rgb)\n",
    "rgb = np.array(unique_rgb)"
   ]
  },
  {
   "cell_type": "code",
   "execution_count": 184,
   "id": "b4e902da",
   "metadata": {},
   "outputs": [
    {
     "data": {
      "text/plain": [
       "['#2dbdff',\n",
       " '#ff0004',\n",
       " '#7cfc00',\n",
       " '#000000',\n",
       " '#228b22',\n",
       " '#5f9ea0',\n",
       " '#ffa500',\n",
       " '#0000ff',\n",
       " '#8b4513']"
      ]
     },
     "execution_count": 184,
     "metadata": {},
     "output_type": "execute_result"
    }
   ],
   "source": [
    "hexes = []\n",
    "\n",
    "for i in range(len(rgb)):\n",
    "    r,g,b = rgb[i,:]\n",
    "    hexcolor = '#{:02x}{:02x}{:02x}'.format(r, g, b)\n",
    "    hexes.append(hexcolor)\n",
    "    \n",
    "hexes"
   ]
  },
  {
   "cell_type": "code",
   "execution_count": 7,
   "id": "cac485e7",
   "metadata": {},
   "outputs": [
    {
     "ename": "NameError",
     "evalue": "name 'rgb' is not defined",
     "output_type": "error",
     "traceback": [
      "\u001b[1;31m---------------------------------------------------------------------------\u001b[0m",
      "\u001b[1;31mNameError\u001b[0m                                 Traceback (most recent call last)",
      "\u001b[1;32m~\\AppData\\Local\\Temp\\ipykernel_23384\\3685987626.py\u001b[0m in \u001b[0;36m<module>\u001b[1;34m\u001b[0m\n\u001b[0;32m      5\u001b[0m \u001b[1;33m\u001b[0m\u001b[0m\n\u001b[0;32m      6\u001b[0m \u001b[1;32mfor\u001b[0m \u001b[0mi\u001b[0m\u001b[1;33m,\u001b[0m \u001b[0mcat\u001b[0m \u001b[1;32min\u001b[0m \u001b[0menumerate\u001b[0m\u001b[1;33m(\u001b[0m\u001b[0mcats\u001b[0m\u001b[1;33m)\u001b[0m\u001b[1;33m:\u001b[0m\u001b[1;33m\u001b[0m\u001b[1;33m\u001b[0m\u001b[0m\n\u001b[1;32m----> 7\u001b[1;33m     \u001b[0mcat_dict\u001b[0m\u001b[1;33m[\u001b[0m\u001b[0mcat\u001b[0m\u001b[1;33m]\u001b[0m \u001b[1;33m=\u001b[0m \u001b[1;33m(\u001b[0m\u001b[0mhexes\u001b[0m\u001b[1;33m[\u001b[0m\u001b[0mi\u001b[0m\u001b[1;33m]\u001b[0m\u001b[1;33m,\u001b[0m \u001b[0mlist\u001b[0m\u001b[1;33m(\u001b[0m\u001b[0mrgb\u001b[0m\u001b[1;33m[\u001b[0m\u001b[0mi\u001b[0m\u001b[1;33m]\u001b[0m\u001b[1;33m)\u001b[0m\u001b[1;33m)\u001b[0m\u001b[1;33m\u001b[0m\u001b[1;33m\u001b[0m\u001b[0m\n\u001b[0m\u001b[0;32m      8\u001b[0m \u001b[1;33m\u001b[0m\u001b[0m\n\u001b[0;32m      9\u001b[0m \u001b[1;31m# cat_dict = sorted(cat_dict.items(), key=lambda x: x[0])\u001b[0m\u001b[1;33m\u001b[0m\u001b[1;33m\u001b[0m\u001b[1;33m\u001b[0m\u001b[0m\n",
      "\u001b[1;31mNameError\u001b[0m: name 'rgb' is not defined"
     ]
    }
   ],
   "source": [
    "cats = ['Snow/Ice','Regenerating Area', 'Herb/Shrub', 'Not categorized', 'Coniferous Forest'\n",
    "       ,'Wetland','Broadleaf/Mixed Wood','Water','Barren Ground']\n",
    "\n",
    "cat_dict = {}\n",
    "\n",
    "for i, cat in enumerate(cats):\n",
    "    cat_dict[cat] = (hexes[i], list(rgb[i]))\n",
    "    \n",
    "# cat_dict = sorted(cat_dict.items(), key=lambda x: x[0])\n",
    "\n",
    "# # Create a new dictionary from the sorted list of tuples\n",
    "# cat_dict = {k: v for k, v in cat_dict}"
   ]
  },
  {
   "cell_type": "code",
   "execution_count": 6,
   "id": "7903a116",
   "metadata": {},
   "outputs": [
    {
     "ename": "NameError",
     "evalue": "name 'cat_dict' is not defined",
     "output_type": "error",
     "traceback": [
      "\u001b[1;31m---------------------------------------------------------------------------\u001b[0m",
      "\u001b[1;31mNameError\u001b[0m                                 Traceback (most recent call last)",
      "\u001b[1;32m~\\AppData\\Local\\Temp\\ipykernel_23384\\2569176207.py\u001b[0m in \u001b[0;36m<module>\u001b[1;34m\u001b[0m\n\u001b[1;32m----> 1\u001b[1;33m \u001b[0mcat_dict_sorted\u001b[0m \u001b[1;33m=\u001b[0m \u001b[1;33m{\u001b[0m\u001b[0mk\u001b[0m\u001b[1;33m:\u001b[0m \u001b[0mcat_dict\u001b[0m\u001b[1;33m[\u001b[0m\u001b[0mk\u001b[0m\u001b[1;33m]\u001b[0m \u001b[1;32mfor\u001b[0m \u001b[0mk\u001b[0m \u001b[1;32min\u001b[0m \u001b[0msorted\u001b[0m\u001b[1;33m(\u001b[0m\u001b[0mcat_dict\u001b[0m\u001b[1;33m)\u001b[0m\u001b[1;33m}\u001b[0m\u001b[1;33m\u001b[0m\u001b[1;33m\u001b[0m\u001b[0m\n\u001b[0m",
      "\u001b[1;31mNameError\u001b[0m: name 'cat_dict' is not defined"
     ]
    }
   ],
   "source": [
    "cat_dict_sorted = {k: cat_dict[k] for k in sorted(cat_dict)}"
   ]
  },
  {
   "cell_type": "code",
   "execution_count": 182,
   "id": "48558747",
   "metadata": {},
   "outputs": [
    {
     "data": {
      "text/plain": [
       "{'Not categorized': ('#000000', [0, 34, 0]),\n",
       " 'Water': ('#0000ff', [13, 13, 13]),\n",
       " 'Conifer': ('#00ff00', [58, 76, 0]),\n",
       " 'Barren Ground': ('#7d0000', [72, 15, 0]),\n",
       " 'Shrubland': ('#969600', [0, 113, 0]),\n",
       " 'Broadleaf': ('#ff0000', [0, 53, 98]),\n",
       " 'Regenerating Area': ('#ff00ff', [92, 74, 0]),\n",
       " 'Herbaceous': ('#ff9b00', [50, 50, 50]),\n",
       " 'Mixedwood': ('#ffff00', [239, 207, 0])}"
      ]
     },
     "execution_count": 182,
     "metadata": {},
     "output_type": "execute_result"
    }
   ],
   "source": [
    "cat_dict_LIM"
   ]
  },
  {
   "cell_type": "code",
   "execution_count": null,
   "id": "f079d8d0",
   "metadata": {},
   "outputs": [],
   "source": [
    "for i in range(len(masksLIM)):\n",
    "    height = masksLIM[i].shape[0]\n",
    "    width = masksLIM[i].shape[1]\n",
    "    \n",
    "    for h, w in zip(height,width):\n",
    "        if masksLIM[i][h,w,:] == np.array"
   ]
  },
  {
   "cell_type": "code",
   "execution_count": 158,
   "id": "20b94777",
   "metadata": {},
   "outputs": [
    {
     "data": {
      "text/plain": [
       "array([0, 0, 0], dtype=uint8)"
      ]
     },
     "execution_count": 158,
     "metadata": {},
     "output_type": "execute_result"
    }
   ],
   "source": [
    "masksLIM[0][1000,235,:]"
   ]
  },
  {
   "cell_type": "code",
   "execution_count": 144,
   "id": "29bdc0ad",
   "metadata": {},
   "outputs": [
    {
     "data": {
      "text/plain": [
       "(5191, 7500, 3)"
      ]
     },
     "execution_count": 144,
     "metadata": {},
     "output_type": "execute_result"
    }
   ],
   "source": [
    "masksLIM[0].shape"
   ]
  },
  {
   "cell_type": "code",
   "execution_count": null,
   "id": "682af390",
   "metadata": {},
   "outputs": [],
   "source": []
  }
 ],
 "metadata": {
  "kernelspec": {
   "display_name": "MLP",
   "language": "python",
   "name": "mlp"
  },
  "language_info": {
   "codemirror_mode": {
    "name": "ipython",
    "version": 3
   },
   "file_extension": ".py",
   "mimetype": "text/x-python",
   "name": "python",
   "nbconvert_exporter": "python",
   "pygments_lexer": "ipython3",
   "version": "3.10.11"
  }
 },
 "nbformat": 4,
 "nbformat_minor": 5
}
